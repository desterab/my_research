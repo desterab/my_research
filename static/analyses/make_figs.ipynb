{
 "cells": [
  {
   "cell_type": "code",
   "execution_count": 9,
   "metadata": {
    "collapsed": false
   },
   "outputs": [
    {
     "ename": "ImportError",
     "evalue": "No module named beh_tools",
     "output_type": "error",
     "traceback": [
      "\u001b[0;31m---------------------------------------------------------------------------\u001b[0m",
      "\u001b[0;31mImportError\u001b[0m                               Traceback (most recent call last)",
      "\u001b[0;32m<ipython-input-9-7ffd025f9a31>\u001b[0m in \u001b[0;36m<module>\u001b[0;34m()\u001b[0m\n\u001b[1;32m      2\u001b[0m \u001b[0;34m\u001b[0m\u001b[0m\n\u001b[1;32m      3\u001b[0m \u001b[0msys\u001b[0m\u001b[0;34m.\u001b[0m\u001b[0mpath\u001b[0m\u001b[0;34m.\u001b[0m\u001b[0mappend\u001b[0m\u001b[0;34m(\u001b[0m\u001b[0;34m\"~/code/py_modules/\"\u001b[0m\u001b[0;34m)\u001b[0m\u001b[0;34m\u001b[0m\u001b[0m\n\u001b[0;32m----> 4\u001b[0;31m \u001b[0;32mfrom\u001b[0m \u001b[0mbeh_tools\u001b[0m \u001b[0;32mimport\u001b[0m \u001b[0mrecall_dynamics\u001b[0m \u001b[0;32mas\u001b[0m \u001b[0mrdf\u001b[0m\u001b[0;34m\u001b[0m\u001b[0m\n\u001b[0m\u001b[1;32m      5\u001b[0m \u001b[0;32mimport\u001b[0m \u001b[0mos\u001b[0m\u001b[0;34m\u001b[0m\u001b[0m\n\u001b[1;32m      6\u001b[0m \u001b[0;32mimport\u001b[0m \u001b[0mpickle\u001b[0m\u001b[0;34m\u001b[0m\u001b[0m\n",
      "\u001b[0;31mImportError\u001b[0m: No module named beh_tools"
     ]
    }
   ],
   "source": [
    "import sys\n",
    "\n",
    "sys.path.append(\"~/code/py_modules/\")\n",
    "from beh_tools import recall_dynamics as rdf\n",
    "import os\n",
    "import pickle\n",
    "import pandas as pd\n",
    "import matplotlib as mpl\n",
    "import matplotlib.pyplot as plt\n",
    "import seaborn as sns\n",
    "import numpy as np\n",
    "\n",
    "# scp cbcc.psy.msu.edu:/home/khealey/code/experiments/Heal16implicit/HealEtal16implicit.data.pkl /Users/khealey/code/experiments/Heal16implicit/\n",
    "recalls = pickle.load(open(\"/Users/khealey/code/experiments/Heal16implicit/HealEtal16implicit.data.pkl\", \"rb\"))\n",
    "\n",
    "rec_mat = recalls.as_matrix(range(recalls.shape[1] - 2))\n",
    "\n",
    "# # compute a lag-CRP\n",
    "# crp = rdf. crp(listlen=16, recalls=rec_mat, filter_ind=None, allow_repeats=False, exclude_op=0)\n",
    "#\n",
    "# # make it a dataframe\n",
    "# crp = pd.DataFrame(crp)\n",
    "\n",
    "# loop over subjects and lists, for each isolate their data\n",
    "subjects = recalls.subject.unique()\n",
    "lists = recalls.list.unique()\n",
    "all_crps = pd.DataFrame()\n",
    "for s in subjects:\n",
    "    for l in lists:\n",
    "        s_filter = recalls.subject == s\n",
    "        l_filter = recalls.list == l\n",
    "        cur_recalls = recalls.loc[s_filter & l_filter, :]\n",
    "        if cur_recalls.shape[0] == 0:\n",
    "            continue\n",
    "        rec_mat = cur_recalls.as_matrix(range(recalls.shape[1] - 2))\n",
    "        crp = rdf.crp(listlen=16, recalls=rec_mat, filter_ind=None, allow_repeats=False, exclude_op=0)\n",
    "        crp = pd.DataFrame.from_records(crp)\n",
    "\n",
    "        # skip lists with zero recall accuracy\n",
    "        prec = rdf.prec(listlen=16, recalls=rec_mat)\n",
    "        if prec <= 0:\n",
    "            continue\n",
    "\n",
    "        # skip lists if subject reported being aware\n",
    "        aware = cur_recalls.aware[0].values == 'yes'\n",
    "        implicit = cur_recalls.instruction_condition[0] == 1\n",
    "        if aware.any() and implicit:\n",
    "            continue\n",
    "\n",
    "        # add list number, and condition ids\n",
    "        crp['subject'] = pd.Series([s for x in range(len(crp.index))], index=crp.index)\n",
    "        crp['list'] = pd.Series([l for x in range(len(crp.index))], index=crp.index)\n",
    "        crp['instruction_condition'] = pd.Series([cur_recalls.instruction_condition[0] for x in range(len(crp.index))],\n",
    "                                                 index=crp.index)\n",
    "        crp['task_condition'] = pd.Series([cur_recalls.task_condition[0] for x in range(len(crp.index))],\n",
    "                                          index=crp.index)\n",
    "        crp['prec'] = pd.Series([prec for x in range(len(crp.index))], index=crp.index) # todo: this needlessly makes a copy of prec for each lag... this seems like a xarray issue\n",
    "\n",
    "        all_crps = pd.concat([all_crps, crp])\n",
    "\n",
    "print pd.crosstab(all_crps.lag, [all_crps.instruction_condition, all_crps.task_condition])"
   ]
  },
  {
   "cell_type": "code",
   "execution_count": 10,
   "metadata": {
    "collapsed": false
   },
   "outputs": [
    {
     "name": "stdout",
     "output_type": "stream",
     "text": [
      "['', '/Users/khealey/anaconda/lib/python27.zip', '/Users/khealey/anaconda/lib/python2.7', '/Users/khealey/anaconda/lib/python2.7/plat-darwin', '/Users/khealey/anaconda/lib/python2.7/plat-mac', '/Users/khealey/anaconda/lib/python2.7/plat-mac/lib-scriptpackages', '/Users/khealey/anaconda/lib/python2.7/lib-tk', '/Users/khealey/anaconda/lib/python2.7/lib-old', '/Users/khealey/anaconda/lib/python2.7/lib-dynload', '/Users/khealey/anaconda/lib/python2.7/site-packages', '/Users/khealey/anaconda/lib/python2.7/site-packages/Sphinx-1.4.1-py2.7.egg', '/Users/khealey/anaconda/lib/python2.7/site-packages/aeosa', '/Users/khealey/anaconda/lib/python2.7/site-packages/setuptools-23.0.0-py2.7.egg', '/Users/khealey/anaconda/lib/python2.7/site-packages/IPython/extensions', '/Users/khealey/.ipython', '/home/khealey/code/py_modules/', '/home/khealey/code/py_modules/', '/home/khealey/code/py_modules/', '/home/khealey/code/py_modules/', '~/khealey/code/py_modules/', '~/code/py_modules/']\n"
     ]
    }
   ],
   "source": [
    "print sys.path"
   ]
  },
  {
   "cell_type": "code",
   "execution_count": 11,
   "metadata": {
    "collapsed": false
   },
   "outputs": [
    {
     "ename": "ImportError",
     "evalue": "No module named beh_tools",
     "output_type": "error",
     "traceback": [
      "\u001b[0;31m---------------------------------------------------------------------------\u001b[0m",
      "\u001b[0;31mImportError\u001b[0m                               Traceback (most recent call last)",
      "\u001b[0;32m<ipython-input-11-c1acfbea908c>\u001b[0m in \u001b[0;36m<module>\u001b[0;34m()\u001b[0m\n\u001b[0;32m----> 1\u001b[0;31m \u001b[0;32mimport\u001b[0m \u001b[0mbeh_tools\u001b[0m\u001b[0;34m\u001b[0m\u001b[0m\n\u001b[0m",
      "\u001b[0;31mImportError\u001b[0m: No module named beh_tools"
     ]
    }
   ],
   "source": [
    "import beh_tools"
   ]
  },
  {
   "cell_type": "code",
   "execution_count": null,
   "metadata": {
    "collapsed": true
   },
   "outputs": [],
   "source": []
  }
 ],
 "metadata": {
  "anaconda-cloud": {},
  "kernelspec": {
   "display_name": "Python [Root]",
   "language": "python",
   "name": "Python [Root]"
  },
  "language_info": {
   "codemirror_mode": {
    "name": "ipython",
    "version": 2
   },
   "file_extension": ".py",
   "mimetype": "text/x-python",
   "name": "python",
   "nbconvert_exporter": "python",
   "pygments_lexer": "ipython2",
   "version": "2.7.12"
  }
 },
 "nbformat": 4,
 "nbformat_minor": 0
}
